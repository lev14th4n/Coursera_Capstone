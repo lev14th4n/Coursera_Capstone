{
 "cells": [
  {
   "cell_type": "code",
   "execution_count": 17,
   "metadata": {
    "id": "Mf-77KgV78h4"
   },
   "outputs": [],
   "source": [
    "import requests\n",
    "from bs4 import BeautifulSoup\n",
    "import numpy as np\n",
    "import pandas as pd\n",
    "import matplotlib.pyplot as plt\n",
    "import seaborn as sns"
   ]
  },
  {
   "cell_type": "code",
   "execution_count": 2,
   "metadata": {
    "id": "zrgv-_dP79oA"
   },
   "outputs": [],
   "source": [
    "ls = [\n",
    "    {\n",
    "        \"city\": \"New York\", \n",
    "        \"growth_from_2000_to_2013\": \"4.8%\", \n",
    "        \"latitude\": 40.7127837, \n",
    "        \"longitude\": -74.0059413, \n",
    "        \"population\": \"8405837\", \n",
    "        \"rank\": \"1\", \n",
    "        \"state\": \"New York\"\n",
    "    }, \n",
    "    {\n",
    "        \"city\": \"Los Angeles\", \n",
    "        \"growth_from_2000_to_2013\": \"4.8%\", \n",
    "        \"latitude\": 34.0522342, \n",
    "        \"longitude\": -118.2436849, \n",
    "        \"population\": \"3884307\", \n",
    "        \"rank\": \"2\", \n",
    "        \"state\": \"California\"\n",
    "    }, \n",
    "    {\n",
    "        \"city\": \"Chicago\", \n",
    "        \"growth_from_2000_to_2013\": \"-6.1%\", \n",
    "        \"latitude\": 41.8781136, \n",
    "        \"longitude\": -87.6297982, \n",
    "        \"population\": \"2718782\", \n",
    "        \"rank\": \"3\", \n",
    "        \"state\": \"Illinois\"\n",
    "    }, \n",
    "    {\n",
    "        \"city\": \"Houston\", \n",
    "        \"growth_from_2000_to_2013\": \"11.0%\", \n",
    "        \"latitude\": 29.7604267, \n",
    "        \"longitude\": -95.3698028, \n",
    "        \"population\": \"2195914\", \n",
    "        \"rank\": \"4\", \n",
    "        \"state\": \"Texas\"\n",
    "    }, \n",
    "    {\n",
    "        \"city\": \"Philadelphia\", \n",
    "        \"growth_from_2000_to_2013\": \"2.6%\", \n",
    "        \"latitude\": 39.9525839, \n",
    "        \"longitude\": -75.1652215, \n",
    "        \"population\": \"1553165\", \n",
    "        \"rank\": \"5\", \n",
    "        \"state\": \"Pennsylvania\"\n",
    "    }, \n",
    "    {\n",
    "        \"city\": \"Phoenix\", \n",
    "        \"growth_from_2000_to_2013\": \"14.0%\", \n",
    "        \"latitude\": 33.4483771, \n",
    "        \"longitude\": -112.0740373, \n",
    "        \"population\": \"1513367\", \n",
    "        \"rank\": \"6\", \n",
    "        \"state\": \"Arizona\"\n",
    "    }, \n",
    "    {\n",
    "        \"city\": \"San Antonio\", \n",
    "        \"growth_from_2000_to_2013\": \"21.0%\", \n",
    "        \"latitude\": 29.4241219, \n",
    "        \"longitude\": -98.49362819999999, \n",
    "        \"population\": \"1409019\", \n",
    "        \"rank\": \"7\", \n",
    "        \"state\": \"Texas\"\n",
    "    }, \n",
    "    {\n",
    "        \"city\": \"San Diego\", \n",
    "        \"growth_from_2000_to_2013\": \"10.5%\", \n",
    "        \"latitude\": 32.715738, \n",
    "        \"longitude\": -117.1610838, \n",
    "        \"population\": \"1355896\", \n",
    "        \"rank\": \"8\", \n",
    "        \"state\": \"California\"\n",
    "    }, \n",
    "    {\n",
    "        \"city\": \"Dallas\", \n",
    "        \"growth_from_2000_to_2013\": \"5.6%\", \n",
    "        \"latitude\": 32.7766642, \n",
    "        \"longitude\": -96.79698789999999, \n",
    "        \"population\": \"1257676\", \n",
    "        \"rank\": \"9\", \n",
    "        \"state\": \"Texas\"\n",
    "    }, \n",
    "    {\n",
    "        \"city\": \"San Jose\", \n",
    "        \"growth_from_2000_to_2013\": \"10.5%\", \n",
    "        \"latitude\": 37.3382082, \n",
    "        \"longitude\": -121.8863286, \n",
    "        \"population\": \"998537\", \n",
    "        \"rank\": \"10\", \n",
    "        \"state\": \"California\"\n",
    "    }]"
   ]
  },
  {
   "cell_type": "code",
   "execution_count": 3,
   "metadata": {
    "id": "ScW0GBXr8Dd1"
   },
   "outputs": [],
   "source": [
    "latitudes = []\n",
    "longitudes = []\n",
    "for items in ls:\n",
    "#     print(items.keys())\n",
    "#     print('/n'*3)\n",
    "    x = items['latitude']\n",
    "    y = items['longitude']\n",
    "    latitudes.append(x)\n",
    "    longitudes.append(y)"
   ]
  },
  {
   "cell_type": "code",
   "execution_count": 16,
   "metadata": {
    "id": "c8XLJEYC8HOz"
   },
   "outputs": [],
   "source": [
    "name = []\n",
    "categories = []\n",
    "postal_code = []\n",
    "city = []\n",
    "state = []\n",
    "lat = []\n",
    "lng = []\n",
    "\n",
    "for latitude, longitude in zip(latitudes, longitudes):\n",
    "    url = 'https://api.foursquare.com/v2/venues/search?client_id=K5NAWHG0L2X2YIXQ45TWMMUJT4AACY123DHOOFE5NALSU40R&client_secret=2MFCZE4LVDSYUELKZ2TW4HGNWRWIDKYTZ2SPZCK545I34AC2&v=20180323&ll={},{}&query=hospital'.format(latitude, longitude)\n",
    "    text = requests.get(url).json()\n",
    "    for hospital in text['response']['venues']:\n",
    "        name.append(hospital['name'])\n",
    "        if 'postalCode' in hospital['location']:\n",
    "            postal_code.append(hospital['location']['postalCode'])\n",
    "        else:\n",
    "            postal_code.append('NaN')\n",
    "        if 'city' in hospital['location']:\n",
    "            city.append(hospital['location']['city'])\n",
    "        else:\n",
    "            city.append('NaN')\n",
    "        state.append(hospital['location']['state'])\n",
    "        lat.append(hospital['location']['lat'])\n",
    "        lng.append(hospital['location']['lng'])\n",
    "        "
   ]
  },
  {
   "cell_type": "code",
   "execution_count": 18,
   "metadata": {
    "id": "FpPCxFgp8jfD"
   },
   "outputs": [],
   "source": [
    "dic = {\n",
    "    'name':name,\n",
    "    'city':city,\n",
    "    'state':state,\n",
    "    'lat':lat,\n",
    "    'lng':lng\n",
    "}\n",
    "df = pd.DataFrame(dic)"
   ]
  },
  {
   "cell_type": "code",
   "execution_count": 21,
   "metadata": {
    "colab": {
     "base_uri": "https://localhost:8080/",
     "height": 195
    },
    "id": "Ue6xIzzz8tTN",
    "outputId": "105970b7-caff-42ad-bd79-3ca1223856eb"
   },
   "outputs": [
    {
     "data": {
      "text/html": [
       "<div>\n",
       "<style scoped>\n",
       "    .dataframe tbody tr th:only-of-type {\n",
       "        vertical-align: middle;\n",
       "    }\n",
       "\n",
       "    .dataframe tbody tr th {\n",
       "        vertical-align: top;\n",
       "    }\n",
       "\n",
       "    .dataframe thead th {\n",
       "        text-align: right;\n",
       "    }\n",
       "</style>\n",
       "<table border=\"1\" class=\"dataframe\">\n",
       "  <thead>\n",
       "    <tr style=\"text-align: right;\">\n",
       "      <th></th>\n",
       "      <th>name</th>\n",
       "      <th>city</th>\n",
       "      <th>state</th>\n",
       "      <th>lat</th>\n",
       "      <th>lng</th>\n",
       "    </tr>\n",
       "  </thead>\n",
       "  <tbody>\n",
       "    <tr>\n",
       "      <th>0</th>\n",
       "      <td>NewYork-Presbyterian-Lower Manhattan Hospital</td>\n",
       "      <td>New York</td>\n",
       "      <td>NY</td>\n",
       "      <td>40.709917</td>\n",
       "      <td>-74.004758</td>\n",
       "    </tr>\n",
       "    <tr>\n",
       "      <th>1</th>\n",
       "      <td>NY Presbyterian Hospital Lower Manhattan Hosp ER</td>\n",
       "      <td>New York</td>\n",
       "      <td>NY</td>\n",
       "      <td>40.709985</td>\n",
       "      <td>-74.004720</td>\n",
       "    </tr>\n",
       "    <tr>\n",
       "      <th>2</th>\n",
       "      <td>Battery Park Veterinary Hospital</td>\n",
       "      <td>New York</td>\n",
       "      <td>NY</td>\n",
       "      <td>40.708163</td>\n",
       "      <td>-74.017927</td>\n",
       "    </tr>\n",
       "    <tr>\n",
       "      <th>3</th>\n",
       "      <td>Reade Street Animal Hospital</td>\n",
       "      <td>New York</td>\n",
       "      <td>NY</td>\n",
       "      <td>40.716732</td>\n",
       "      <td>-74.009979</td>\n",
       "    </tr>\n",
       "    <tr>\n",
       "      <th>4</th>\n",
       "      <td>Bellevue Hospital Center</td>\n",
       "      <td>New York</td>\n",
       "      <td>NY</td>\n",
       "      <td>40.739475</td>\n",
       "      <td>-73.975453</td>\n",
       "    </tr>\n",
       "  </tbody>\n",
       "</table>\n",
       "</div>"
      ],
      "text/plain": [
       "                                               name  ...        lng\n",
       "0     NewYork-Presbyterian-Lower Manhattan Hospital  ... -74.004758\n",
       "1  NY Presbyterian Hospital Lower Manhattan Hosp ER  ... -74.004720\n",
       "2                  Battery Park Veterinary Hospital  ... -74.017927\n",
       "3                      Reade Street Animal Hospital  ... -74.009979\n",
       "4                          Bellevue Hospital Center  ... -73.975453\n",
       "\n",
       "[5 rows x 5 columns]"
      ]
     },
     "execution_count": 21,
     "metadata": {
      "tags": []
     },
     "output_type": "execute_result"
    }
   ],
   "source": [
    "df.dropna(inplace=True)\n",
    "df.head()"
   ]
  },
  {
   "cell_type": "code",
   "execution_count": 23,
   "metadata": {
    "id": "KrQ9qGlp9cg3"
   },
   "outputs": [],
   "source": [
    "from sklearn.cluster import KMeans\n",
    "\n",
    "scores = []\n",
    "for k in range(2, 20):\n",
    "  clf = KMeans(n_clusters=k)\n",
    "  clf.fit(df[['lat', 'lng']])\n",
    "  scores.append(clf.score(df[['lat', 'lng']]))\n",
    "\n"
   ]
  },
  {
   "cell_type": "code",
   "execution_count": 24,
   "metadata": {
    "colab": {
     "base_uri": "https://localhost:8080/",
     "height": 282
    },
    "id": "_Sy6URte_yvd",
    "outputId": "c847c916-9a96-409b-b6e0-3ee50281ea9f"
   },
   "outputs": [
    {
     "data": {
      "text/plain": [
       "<matplotlib.axes._subplots.AxesSubplot at 0x7fa968151390>"
      ]
     },
     "execution_count": 24,
     "metadata": {
      "tags": []
     },
     "output_type": "execute_result"
    },
    {
     "data": {
      "image/png": "[encoded data removed]",
      "text/plain": [
       "<Figure size 432x288 with 1 Axes>"
      ]
     },
     "metadata": {
      "needs_background": "light",
      "tags": []
     },
     "output_type": "display_data"
    }
   ],
   "source": [
    "sns.lineplot(x=range(2,20), y=scores)"
   ]
  },
  {
   "cell_type": "code",
   "execution_count": 25,
   "metadata": {
    "colab": {
     "base_uri": "https://localhost:8080/"
    },
    "id": "N5FS1UVDASI6",
    "outputId": "2c174184-cebb-4e77-9df4-429b323b1f47"
   },
   "outputs": [
    {
     "name": "stdout",
     "output_type": "stream",
     "text": [
      "k=5 is the best choice\n"
     ]
    },
    {
     "data": {
      "text/plain": [
       "KMeans(algorithm='auto', copy_x=True, init='k-means++', max_iter=300,\n",
       "       n_clusters=5, n_init=10, n_jobs=None, precompute_distances='auto',\n",
       "       random_state=None, tol=0.0001, verbose=0)"
      ]
     },
     "execution_count": 25,
     "metadata": {
      "tags": []
     },
     "output_type": "execute_result"
    }
   ],
   "source": [
    "print('k=5 is the best choice')\n",
    "clf = KMeans(n_clusters=5)\n",
    "clf.fit(df[['lat', 'lng']])"
   ]
  },
  {
   "cell_type": "code",
   "execution_count": 27,
   "metadata": {
    "colab": {
     "base_uri": "https://localhost:8080/"
    },
    "id": "ZY4f79yxAkcb",
    "outputId": "7c905d56-421e-47d7-faf5-9f92493f8f09"
   },
   "outputs": [
    {
     "data": {
      "text/plain": [
       "-1077.6878437504547"
      ]
     },
     "execution_count": 27,
     "metadata": {
      "tags": []
     },
     "output_type": "execute_result"
    }
   ],
   "source": [
    "clf.score(df[['lat', 'lng']])"
   ]
  },
  {
   "cell_type": "code",
   "execution_count": 28,
   "metadata": {
    "colab": {
     "base_uri": "https://localhost:8080/"
    },
    "id": "lU4_vX7DAou5",
    "outputId": "4eb3a3ed-4c85-4841-f1e8-ff8e5fd5ed18"
   },
   "outputs": [
    {
     "data": {
      "text/plain": [
       "array([[  41.88746873,  -87.64317122],\n",
       "       [  33.42560911, -115.81986613],\n",
       "       [  30.66675466,  -96.89746999],\n",
       "       [  40.33740726,  -74.57786132],\n",
       "       [  37.32127427, -121.96045417]])"
      ]
     },
     "execution_count": 28,
     "metadata": {
      "tags": []
     },
     "output_type": "execute_result"
    }
   ],
   "source": [
    "clf.cluster_centers_"
   ]
  },
  {
   "cell_type": "code",
   "execution_count": 33,
   "metadata": {
    "colab": {
     "base_uri": "https://localhost:8080/",
     "height": 296
    },
    "id": "eapWXwx3A4Dw",
    "outputId": "e57e173d-b806-44da-9ccb-32a385f478bc"
   },
   "outputs": [
    {
     "data": {
      "text/plain": [
       "<matplotlib.axes._subplots.AxesSubplot at 0x7fa967a6a450>"
      ]
     },
     "execution_count": 33,
     "metadata": {
      "tags": []
     },
     "output_type": "execute_result"
    },
    {
     "data": {
      "image/png": "[encoded data removed]",
      "text/plain": [
       "<Figure size 432x288 with 1 Axes>"
      ]
     },
     "metadata": {
      "needs_background": "light",
      "tags": []
     },
     "output_type": "display_data"
    }
   ],
   "source": [
    "sns.scatterplot(x=df['lat'], y=df['lng'])"
   ]
  },
  {
   "cell_type": "code",
   "execution_count": 39,
   "metadata": {
    "colab": {
     "base_uri": "https://localhost:8080/",
     "height": 296
    },
    "id": "9I606fiSBRdV",
    "outputId": "7a547772-621e-4f49-e639-430088572a19"
   },
   "outputs": [
    {
     "data": {
      "text/plain": [
       "<matplotlib.axes._subplots.AxesSubplot at 0x7fa967752c10>"
      ]
     },
     "execution_count": 39,
     "metadata": {
      "tags": []
     },
     "output_type": "execute_result"
    },
    {
     "data": {
      "image/png": "[encoded data removed]",
      "text/plain": [
       "<Figure size 432x288 with 1 Axes>"
      ]
     },
     "metadata": {
      "needs_background": "light",
      "tags": []
     },
     "output_type": "display_data"
    }
   ],
   "source": [
    "y_kmeans = clf.predict(df[['lat', 'lng']])\n",
    "sns.scatterplot(x=df['lat'], y=df['lng'], c=y_kmeans, markers='*')"
   ]
  },
  {
   "cell_type": "code",
   "execution_count": 60,
   "metadata": {
    "colab": {
     "base_uri": "https://localhost:8080/"
    },
    "id": "Wf4DQDYYCan3",
    "outputId": "c3453324-bcce-454d-804b-b7885470cb4f"
   },
   "outputs": [
    {
     "data": {
      "text/plain": [
       "array([3, 1, 0, 2, 4], dtype=int32)"
      ]
     },
     "execution_count": 60,
     "metadata": {
      "tags": []
     },
     "output_type": "execute_result"
    }
   ],
   "source": [
    "clusters = pd.DataFrame(y_kmeans)\n",
    "clusters[0].unique()"
   ]
  },
  {
   "cell_type": "code",
   "execution_count": 61,
   "metadata": {
    "colab": {
     "base_uri": "https://localhost:8080/"
    },
    "id": "GdqS5QKhDm_r",
    "outputId": "65800087-2714-451f-a169-11d6d55732ec"
   },
   "outputs": [
    {
     "name": "stdout",
     "output_type": "stream",
     "text": [
      "1 has 30 data hospitals\n",
      "2 has 90 data hospitals\n",
      "3 has 90 data hospitals\n",
      "4 has 60 data hospitals\n",
      "5 has 30 data hospitals\n"
     ]
    }
   ],
   "source": [
    "print('{} has {} data hospitals'.format(1, (clusters[0]==0).sum()))\n",
    "print('{} has {} data hospitals'.format(2, (clusters[0]==1).sum()))\n",
    "print('{} has {} data hospitals'.format(3, (clusters[0]==2).sum()))\n",
    "print('{} has {} data hospitals'.format(4, (clusters[0]==3).sum()))\n",
    "print('{} has {} data hospitals'.format(5, (clusters[0]==4).sum()))"
   ]
  },
  {
   "cell_type": "code",
   "execution_count": 62,
   "metadata": {
    "colab": {
     "base_uri": "https://localhost:8080/"
    },
    "id": "BDZJp_X5D0ea",
    "outputId": "ed8cd767-2cde-46c5-b168-84190f5180dd"
   },
   "outputs": [
    {
     "name": "stdout",
     "output_type": "stream",
     "text": [
      "so the best place for a drugstore is within second or third cluster since they have the highest number of hospitals.\n"
     ]
    }
   ],
   "source": [
    "print('so the best place for a drugstore is within second or third cluster since they have the highest number of hospitals.')"
   ]
  },
  {
   "cell_type": "code",
   "execution_count": null,
   "metadata": {
    "id": "WoGrK7e1FuGD"
   },
   "outputs": [],
   "source": []
  }
 ],
 "metadata": {
  "colab": {
   "name": "Final Project.ipynb",
   "provenance": []
  },
  "kernelspec": {
   "display_name": "Python 3",
   "language": "python",
   "name": "python3"
  },
  "language_info": {
   "codemirror_mode": {
    "name": "ipython",
    "version": 3
   },
   "file_extension": ".py",
   "mimetype": "text/x-python",
   "name": "python",
   "nbconvert_exporter": "python",
   "pygments_lexer": "ipython3",
   "version": "3.8.5"
  }
 },
 "nbformat": 4,
 "nbformat_minor": 1
}
