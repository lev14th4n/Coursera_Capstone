{
 "cells": [
  {
   "cell_type": "markdown",
   "metadata": {},
   "source": [
    "### Lets say I want to establish a drugstore in US, the best place for that is near hospitals since more patient exists in that region. The result would be useful for anyone who wants to establish a drugstore"
   ]
  },
  {
   "cell_type": "markdown",
   "metadata": {},
   "source": [
    "#### I query hospital data from foursquare and with the help of that data(after cleaning) I create a pandas dataframe that has 300 rows and includes name of hospital, city, state, lat and lng. I use Kmeans clustering to devide the 10 most popular city of US into 5 region and finally select which region would be the best place for a drugstore."
   ]
  },
  {
   "cell_type": "code",
   "execution_count": null,
   "metadata": {},
   "outputs": [],
   "source": []
  }
 ],
 "metadata": {
  "kernelspec": {
   "display_name": "Python 3",
   "language": "python",
   "name": "python3"
  },
  "language_info": {
   "codemirror_mode": {
    "name": "ipython",
    "version": 3
   },
   "file_extension": ".py",
   "mimetype": "text/x-python",
   "name": "python",
   "nbconvert_exporter": "python",
   "pygments_lexer": "ipython3",
   "version": "3.8.5"
  }
 },
 "nbformat": 4,
 "nbformat_minor": 4
}
